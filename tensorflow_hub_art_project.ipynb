{
 "cells": [
  {
   "cell_type": "code",
   "execution_count": 6,
   "id": "a6df2f1b-b944-4993-baef-a1386b4fe25e",
   "metadata": {},
   "outputs": [],
   "source": [
    "import os\n",
    "import cv2\n",
    "import PIL.Image\n",
    "import numpy as np\n",
    "import argparse\n",
    "import tensorflow as tf\n",
    "import tensorflow_hub as hub"
   ]
  },
  {
   "cell_type": "code",
   "execution_count": null,
   "id": "f175d60a-8f17-4c61-a9cd-1e8a3eed9116",
   "metadata": {},
   "outputs": [],
   "source": [
    "os.environ['CUDA_VISIBLE_DEVICES'] = '-1'  # Disable GPU\n",
    "hub_handle_2 = 'https://tfhub.dev/google/magenta/arbitrary-image-stylization-v1-256/2'\n",
    "hub_module = hub.load(hub_handle_2)"
   ]
  },
  {
   "cell_type": "code",
   "execution_count": null,
   "id": "7572b459-2d0b-41e1-ac45-1d45b6c3cec6",
   "metadata": {},
   "outputs": [],
   "source": [
    "def tensor_to_image(tensor):\n",
    "    tensor = tensor*255\n",
    "    tensor = np.array(tensor, dtype=np.uint8)\n",
    "    if np.ndim(tensor)>3:\n",
    "        assert tensor.shape[0] == 1\n",
    "        tensor = tensor[0]\n",
    "    return PIL.Image.fromarray(tensor)\n",
    "\n",
    "def load_img(path_to_img):\n",
    "    max_dim = 640\n",
    "    img = tf.io.read_file(path_to_img)\n",
    "    img = tf.image.decode_image(img, channels=3)\n",
    "    img = tf.image.convert_image_dtype(img, tf.float32)\n",
    "\n",
    "    shape = tf.cast(tf.shape(img)[:-1], tf.float32)\n",
    "    long_dim = max(shape)\n",
    "    scale = max_dim / long_dim\n",
    "\n",
    "    new_shape = tf.cast(shape * scale, tf.int32)\n",
    "\n",
    "    img = tf.image.resize(img, new_shape)\n",
    "    img = img[tf.newaxis, :]\n",
    "    return img\n",
    "\n",
    "def makeArt(content_image_path, style_image_path, output_path):\n",
    "    try:\n",
    "        content_image = load_img(content_image_path)\n",
    "        style_image = load_img(style_image_path)\n",
    "\n",
    "        stylized_image = hub_module(tf.constant(content_image), tf.constant(style_image))[0]\n",
    "        print(\"Saving stylized image...\")  # 로그 메시지 추가\n",
    "        tensor_to_image(stylized_image).save(output_path)\n",
    "        print(f\"Stylized image saved to {output_path}\")\n",
    "    except Exception as e:\n",
    "        print(f\"Error occurred: {e}\")\n",
    "\n"
   ]
  },
  {
   "cell_type": "code",
   "execution_count": null,
   "id": "7c0e6f31-dc4c-4de5-a595-03c38a1e963a",
   "metadata": {},
   "outputs": [],
   "source": [
    "if __name__ == \"__main__\":\n",
    "    print(\"Script started...\")  # 로그 메시지 추가\n",
    "    parser = argparse.ArgumentParser(description=\"Art Making with TensorFlow Hub\")\n",
    "    parser.add_argument(\"--content\", type=str, required=True, help=\"Path to the content image.\")\n",
    "    parser.add_argument(\"--style\", type=str, required=True, help=\"Path to the style image.\")\n",
    "    parser.add_argument(\"--output\", type=str, default=\"output.jpg\", help=\"Path to save the stylized image.\")\n",
    "    args = parser.parse_args()\n",
    "\n",
    "    makeArt(args.content, args.style, args.output)"
   ]
  }
 ],
 "metadata": {
  "kernelspec": {
   "display_name": "Python 3 (ipykernel)",
   "language": "python",
   "name": "python3"
  },
  "language_info": {
   "codemirror_mode": {
    "name": "ipython",
    "version": 3
   },
   "file_extension": ".py",
   "mimetype": "text/x-python",
   "name": "python",
   "nbconvert_exporter": "python",
   "pygments_lexer": "ipython3",
   "version": "3.8.10"
  }
 },
 "nbformat": 4,
 "nbformat_minor": 5
}
